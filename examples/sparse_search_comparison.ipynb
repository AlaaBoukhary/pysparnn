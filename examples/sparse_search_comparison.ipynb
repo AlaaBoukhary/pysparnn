{
 "cells": [
  {
   "cell_type": "code",
   "execution_count": 11,
   "metadata": {
    "collapsed": false
   },
   "outputs": [],
   "source": [
    "# Copyright (c) 2016-present, Facebook, Inc.\n",
    "# All rights reserved.\n",
    "#\n",
    "# This source code is licensed under the BSD-style license found in the\n",
    "# LICENSE file in the root directory of this source tree. An additional grant\n",
    "# of patent rights can be found in the PATENTS file in the same directory.\n",
    "\n",
    "\n",
    "import numpy as np\n",
    "import time\n",
    "from scipy.sparse import csr_matrix\n",
    "from sklearn.datasets import fetch_20newsgroups\n",
    "from sklearn.neighbors import LSHForest\n",
    "from sklearn.feature_extraction import DictVectorizer"
   ]
  },
  {
   "cell_type": "code",
   "execution_count": 12,
   "metadata": {
    "collapsed": false
   },
   "outputs": [],
   "source": [
    "# make sure you run 'python setup.py install' first!\n",
    "import pysparnn"
   ]
  },
  {
   "cell_type": "markdown",
   "metadata": {
    "collapsed": false
   },
   "source": [
    "# Fetch data"
   ]
  },
  {
   "cell_type": "code",
   "execution_count": 13,
   "metadata": {
    "collapsed": false
   },
   "outputs": [],
   "source": [
    "dataset = fetch_20newsgroups(subset='all', shuffle=True, random_state=42)\n",
    "\n",
    "docs = np.array([x.split() for x in dataset.data])\n",
    "datas = np.array(range(len(docs)))"
   ]
  },
  {
   "cell_type": "markdown",
   "metadata": {},
   "source": [
    "# Build LSH & PySparNN indexes"
   ]
  },
  {
   "cell_type": "code",
   "execution_count": 14,
   "metadata": {
    "collapsed": false,
    "scrolled": false
   },
   "outputs": [
    {
     "name": "stdout",
     "output_type": "stream",
     "text": [
      "5.56203985214\n"
     ]
    }
   ],
   "source": [
    "class SNNSearch:\n",
    "    def __init__(self, docs, datas):\n",
    "        \n",
    "        self.dv = DictVectorizer()\n",
    "        dicts = []\n",
    "        for d in docs:\n",
    "            dicts.append(dict([(w, 1) for w in d]))\n",
    "        self.dv.fit(dicts)\n",
    "        features = csr_matrix(self.dv.transform(dicts), dtype=int)\n",
    "        self.cp = pysparnn.ClusterIndex(features, datas, \n",
    "                                        pysparnn.matrix_distance.UnitCosineDistance)\n",
    "        \n",
    "    def search(self, docs):\n",
    "        dicts = []\n",
    "        for d in docs:\n",
    "            dicts.append(dict([(w, 1) for w in d]))\n",
    "        features = csr_matrix(self.dv.transform(dicts), dtype=int)\n",
    "        return self.cp.search(features, return_metric=False, k=1, k_clusters=1, max_distance=0.05)\n",
    "        \n",
    "\n",
    "t0 = time.time()\n",
    "snn_search = SNNSearch(docs, datas)\n",
    "print(time.time() - t0)"
   ]
  },
  {
   "cell_type": "code",
   "execution_count": 15,
   "metadata": {
    "collapsed": false
   },
   "outputs": [
    {
     "name": "stdout",
     "output_type": "stream",
     "text": [
      "4.52688407898\n"
     ]
    }
   ],
   "source": [
    "class LSHSearch:\n",
    "    def __init__(self, docs):\n",
    "        self.lshf = LSHForest(n_estimators=1, n_candidates=1,\n",
    "                     n_neighbors=1)\n",
    "        self.dv = DictVectorizer()\n",
    "        dicts = []\n",
    "        for d in docs:\n",
    "            dicts.append(dict([(w, 1) for w in d]))\n",
    "        self.dv.fit(dicts)\n",
    "        features = self.dv.transform(dicts)\n",
    "        # floats are faster\n",
    "        # features = csr_matrix(features, dtype=int)\n",
    "        self.lshf.fit(features)\n",
    "        \n",
    "    def search(self, docs):\n",
    "        dicts = []\n",
    "        for d in docs:\n",
    "            dicts.append(dict([(w, 1) for w in d]))\n",
    "        features = self.dv.transform(dicts)\n",
    "        # floats are faster\n",
    "        # features = csr_matrix(features, dtype=int)\n",
    "        return self.lshf.kneighbors(features, return_distance=False)\n",
    "    \n",
    "t0 = time.time()    \n",
    "lsh = LSHSearch(docs) \n",
    "print(time.time() - t0)"
   ]
  },
  {
   "cell_type": "code",
   "execution_count": 16,
   "metadata": {
    "collapsed": true
   },
   "outputs": [],
   "source": [
    "# code that will measure query time and accuracy\n",
    "import time\n",
    "import random\n",
    "\n",
    "def accuracy(result, truth):\n",
    "    ret =  []\n",
    "    for r, t in zip(result, truth):\n",
    "        ret.append(1 if t in r else 0)\n",
    "    return np.array(ret)\n",
    "\n",
    "def time_it(search_index, docs, query_index):\n",
    "    # time how long the query takes\n",
    "    t0 = time.time()\n",
    "    neighbors = search_index.search(docs[query_index])\n",
    "    delta = time.time() - t0\n",
    "\n",
    "    return delta, accuracy(neighbors, query_index).mean()\n",
    "\n",
    "def identity_benchmark(search_index, docs, n_trials=500, docs_per_query=20):\n",
    "    # Bootstrap code to measure the time and accuracy\n",
    "    times = []\n",
    "    accuracys = []\n",
    "    for i in range(n_trials):\n",
    "        query_index = random.sample(range(len(docs)), docs_per_query)\n",
    "        time, accuracy = time_it(search_index, docs, query_index)\n",
    "        time = time / docs_per_query\n",
    "        times.append(time)\n",
    "        accuracys.append(accuracy)\n",
    "    return np.median(times), np.median(accuracys)"
   ]
  },
  {
   "cell_type": "code",
   "execution_count": 17,
   "metadata": {
    "collapsed": false
   },
   "outputs": [
    {
     "name": "stdout",
     "output_type": "stream",
     "text": [
      "LSH median time per query: 0.00382687449455\n",
      "LSH median accuracy: 1.0\n"
     ]
    }
   ],
   "source": [
    "lsh_time, lsh_accuracy = identity_benchmark(lsh, docs)\n",
    "print('LSH median time per query: {0}'.format(lsh_time)) \n",
    "print('LSH median accuracy: {0}'.format(lsh_accuracy)) "
   ]
  },
  {
   "cell_type": "code",
   "execution_count": 18,
   "metadata": {
    "collapsed": false
   },
   "outputs": [
    {
     "name": "stdout",
     "output_type": "stream",
     "text": [
      "PySparNN median time per query: 0.00212032198906\n",
      "PySparNN median accuracy: 1.0\n"
     ]
    }
   ],
   "source": [
    "snn_time, snn_accuracy = identity_benchmark(snn_search, docs)\n",
    "print('PySparNN median time per query: {0}'.format(snn_time)) \n",
    "print('PySparNN median accuracy: {0}'.format(snn_accuracy)) "
   ]
  },
  {
   "cell_type": "code",
   "execution_count": 19,
   "metadata": {
    "collapsed": false
   },
   "outputs": [
    {
     "data": {
      "text/plain": [
       "1.8048553541861685"
      ]
     },
     "execution_count": 19,
     "metadata": {},
     "output_type": "execute_result"
    }
   ],
   "source": [
    "lsh_time / snn_time"
   ]
  },
  {
   "cell_type": "code",
   "execution_count": 20,
   "metadata": {
    "collapsed": false
   },
   "outputs": [
    {
     "data": {
      "text/plain": [
       "-0.44593897916494685"
      ]
     },
     "execution_count": 20,
     "metadata": {},
     "output_type": "execute_result"
    }
   ],
   "source": [
    "(snn_time - lsh_time) / lsh_time"
   ]
  }
 ],
 "metadata": {
  "kernelspec": {
   "display_name": "Python 2",
   "language": "python",
   "name": "python2"
  },
  "language_info": {
   "codemirror_mode": {
    "name": "ipython",
    "version": 2
   },
   "file_extension": ".py",
   "mimetype": "text/x-python",
   "name": "python",
   "nbconvert_exporter": "python",
   "pygments_lexer": "ipython2",
   "version": "2.7.11"
  }
 },
 "nbformat": 4,
 "nbformat_minor": 0
}
