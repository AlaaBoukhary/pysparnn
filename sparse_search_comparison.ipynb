{
 "cells": [
  {
   "cell_type": "code",
   "execution_count": 26,
   "metadata": {
    "collapsed": false
   },
   "outputs": [],
   "source": [
    "# Copyright (c) 2016-present, Facebook, Inc.\n",
    "# All rights reserved.\n",
    "#\n",
    "# This source code is licensed under the BSD-style license found in the\n",
    "# LICENSE file in the root directory of this source tree. An additional grant\n",
    "# of patent rights can be found in the PATENTS file in the same directory.\n",
    "\n",
    "\n",
    "import numpy as np\n",
    "import time\n",
    "\n",
    "from sklearn.datasets import fetch_20newsgroups\n",
    "from sklearn.neighbors import LSHForest\n",
    "from sklearn.feature_extraction import DictVectorizer"
   ]
  },
  {
   "cell_type": "code",
   "execution_count": 27,
   "metadata": {
    "collapsed": false
   },
   "outputs": [],
   "source": [
    "import pysparnn"
   ]
  },
  {
   "cell_type": "code",
   "execution_count": 28,
   "metadata": {
    "collapsed": false
   },
   "outputs": [],
   "source": [
    "dataset = fetch_20newsgroups(subset='all', shuffle=True, random_state=42)"
   ]
  },
  {
   "cell_type": "code",
   "execution_count": 4,
   "metadata": {
    "collapsed": false
   },
   "outputs": [],
   "source": [
    "docs = np.array([x.split() for x in dataset.data])\n",
    "datas = np.array(range(len(docs)))"
   ]
  },
  {
   "cell_type": "code",
   "execution_count": 5,
   "metadata": {
    "collapsed": false,
    "scrolled": false
   },
   "outputs": [
    {
     "name": "stdout",
     "output_type": "stream",
     "text": [
      "3.6509988308\n"
     ]
    }
   ],
   "source": [
    "class SNNSearch:\n",
    "    def __init__(self, docs, datas):\n",
    "        \n",
    "        features = []\n",
    "        for d in docs:\n",
    "            features.append(dict([(w, 1) for w in d]))\n",
    "        self.cp = pysparnn.ClusterIndex(features, datas)\n",
    "        \n",
    "    def search(self, docs):\n",
    "        dicts = []\n",
    "        for d in docs:\n",
    "            dicts.append(dict([(w, 1) for w in d]))\n",
    "        return self.cp.search(dicts, return_similarity=False, k=1, k_clusters=1)\n",
    "        \n",
    "\n",
    "t0 = time.time()\n",
    "snn_search = SNNSearch(docs, datas)\n",
    "print(time.time() - t0)"
   ]
  },
  {
   "cell_type": "code",
   "execution_count": 6,
   "metadata": {
    "collapsed": false
   },
   "outputs": [
    {
     "name": "stdout",
     "output_type": "stream",
     "text": [
      "4.54637718201\n"
     ]
    }
   ],
   "source": [
    "class LSHSearch:\n",
    "    def __init__(self, docs):\n",
    "        self.lshf = LSHForest(n_estimators=1, n_candidates=1,\n",
    "                     n_neighbors=1)\n",
    "        self.dv = DictVectorizer()\n",
    "        dicts = []\n",
    "        for d in docs:\n",
    "            dicts.append(dict([(w, 1) for w in d]))\n",
    "        self.dv.fit(dicts)\n",
    "        self.lshf.fit(self.dv.transform(dicts))\n",
    "        \n",
    "    def search(self, docs):\n",
    "        dicts = []\n",
    "        for d in docs:\n",
    "            dicts.append(dict([(w, 1) for w in d]))\n",
    "        return self.lshf.kneighbors(self.dv.transform(dicts), return_distance=False)\n",
    "    \n",
    "t0 = time.time()    \n",
    "lsh = LSHSearch(docs) \n",
    "print(time.time() - t0)"
   ]
  },
  {
   "cell_type": "markdown",
   "metadata": {},
   "source": [
    "### Compare query speed an accuracy"
   ]
  },
  {
   "cell_type": "code",
   "execution_count": 7,
   "metadata": {
    "collapsed": false
   },
   "outputs": [],
   "source": [
    "import time\n",
    "import random\n",
    "def accuracy(result, truth):\n",
    "    ret =  []\n",
    "    for r, t in zip(result, truth):\n",
    "        ret.append(1 if t in r else 0)\n",
    "    return np.array(ret)\n",
    "\n",
    "\n",
    "\n",
    "def time_it(search_index, docs, query_index):\n",
    "    t0 = time.time()\n",
    "    neighbors = search_index.search(docs[query_index])\n",
    "    delta = time.time() - t0\n",
    "\n",
    "    return delta, accuracy(neighbors, query_index).mean()\n",
    "\n",
    "def time_it_n(search_index, docs, n=100, k_docs=100):\n",
    "\n",
    "    times = []\n",
    "    accuracys = []\n",
    "    for i in range(n):\n",
    "        query_index = random.sample(range(len(docs)), k_docs)\n",
    "        time, accuracy = time_it(search_index, docs, query_index)\n",
    "        times.append(time)\n",
    "        accuracys.append(accuracy)\n",
    "    return np.mean(times), np.mean(accuracys)"
   ]
  },
  {
   "cell_type": "code",
   "execution_count": 10,
   "metadata": {
    "collapsed": false
   },
   "outputs": [
    {
     "name": "stdout",
     "output_type": "stream",
     "text": [
      "LSH time per query: 0.290881130695\n",
      "LSH average accuracy: 0.9998\n"
     ]
    }
   ],
   "source": [
    "lsh_time, lsh_accuracy = time_it_n(lsh, docs)\n",
    "print('LSH time per query: {0}'.format(lsh_time)) \n",
    "print('LSH average accuracy: {0}'.format(lsh_accuracy)) "
   ]
  },
  {
   "cell_type": "code",
   "execution_count": 11,
   "metadata": {
    "collapsed": false
   },
   "outputs": [
    {
     "name": "stdout",
     "output_type": "stream",
     "text": [
      "PySparNN time per query: 0.214360470772\n",
      "PySparNN average accuracy: 0.9997\n"
     ]
    }
   ],
   "source": [
    "snn_time, snn_accuracy = time_it_n(snn_search, docs)\n",
    "print('PySparNN time per query: {0}'.format(snn_time)) \n",
    "print('PySparNN average accuracy: {0}'.format(snn_accuracy)) "
   ]
  }
 ],
 "metadata": {
  "kernelspec": {
   "display_name": "Python 2",
   "language": "python",
   "name": "python2"
  },
  "language_info": {
   "codemirror_mode": {
    "name": "ipython",
    "version": 2
   },
   "file_extension": ".py",
   "mimetype": "text/x-python",
   "name": "python",
   "nbconvert_exporter": "python",
   "pygments_lexer": "ipython2",
   "version": "2.7.11"
  }
 },
 "nbformat": 4,
 "nbformat_minor": 0
}
