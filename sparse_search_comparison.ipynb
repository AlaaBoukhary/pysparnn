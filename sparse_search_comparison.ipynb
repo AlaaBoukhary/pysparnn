{
 "cells": [
  {
   "cell_type": "code",
   "execution_count": 21,
   "metadata": {
    "collapsed": false
   },
   "outputs": [
    {
     "data": {
      "text/plain": [
       "[['oh hello there'], ['Play it again Sam']]"
      ]
     },
     "execution_count": 21,
     "metadata": {},
     "output_type": "execute_result"
    }
   ],
   "source": [
    "import pysparnn as snn\n",
    "from sklearn.feature_extraction import DictVectorizer\n",
    "\n",
    "data = [\n",
    "    'hello world',\n",
    "    'oh hello there',\n",
    "    'Play it',\n",
    "    'Play it again Sam',\n",
    "]    \n",
    "\n",
    "# build a feature representation for each sentence\n",
    "def scentence2features(scentence):\n",
    "    features = dict()\n",
    "    for word in scentence.split():\n",
    "        features[word] = 1\n",
    "    return features\n",
    "\n",
    "features_list = []\n",
    "for sentence in data:\n",
    "    features_list.append(scentence2features(sentence))\n",
    "\n",
    "dv = DictVectorizer()\n",
    "dv.fit(features_list)\n",
    "\n",
    "# build the search index!\n",
    "cp = snn.ClusterIndex(dv.transform(features_list), data)\n",
    "\n",
    "# search the index\n",
    "search_items = [\n",
    "    scentence2features('oh there'),\n",
    "    scentence2features('Play it again Frank')\n",
    "]\n",
    "search_items = dv.transform(search_items)\n",
    "cp.search(search_items, min_threshold=0.50, k=1, k_clusters=2, return_metric=False)"
   ]
  },
  {
   "cell_type": "code",
   "execution_count": 1,
   "metadata": {
    "collapsed": false
   },
   "outputs": [],
   "source": [
    "# Copyright (c) 2016-present, Facebook, Inc.\n",
    "# All rights reserved.\n",
    "#\n",
    "# This source code is licensed under the BSD-style license found in the\n",
    "# LICENSE file in the root directory of this source tree. An additional grant\n",
    "# of patent rights can be found in the PATENTS file in the same directory.\n",
    "\n",
    "\n",
    "import numpy as np\n",
    "import time\n",
    "from scipy.sparse import csr_matrix\n",
    "from sklearn.datasets import fetch_20newsgroups\n",
    "from sklearn.neighbors import LSHForest\n",
    "from sklearn.feature_extraction import DictVectorizer"
   ]
  },
  {
   "cell_type": "code",
   "execution_count": 2,
   "metadata": {
    "collapsed": false
   },
   "outputs": [],
   "source": [
    "import pysparnn"
   ]
  },
  {
   "cell_type": "markdown",
   "metadata": {
    "collapsed": false
   },
   "source": [
    "# Fetch data"
   ]
  },
  {
   "cell_type": "code",
   "execution_count": 3,
   "metadata": {
    "collapsed": false
   },
   "outputs": [],
   "source": [
    "dataset = fetch_20newsgroups(subset='all', shuffle=True, random_state=42)\n",
    "\n",
    "docs = np.array([x.split() for x in dataset.data])\n",
    "datas = np.array(range(len(docs)))"
   ]
  },
  {
   "cell_type": "markdown",
   "metadata": {},
   "source": [
    "# Build LSH & pysparnn indexes"
   ]
  },
  {
   "cell_type": "code",
   "execution_count": 4,
   "metadata": {
    "collapsed": false,
    "scrolled": false
   },
   "outputs": [
    {
     "name": "stdout",
     "output_type": "stream",
     "text": [
      "5.30067110062\n"
     ]
    }
   ],
   "source": [
    "class SNNSearch:\n",
    "    def __init__(self, docs, datas):\n",
    "        \n",
    "        self.dv = DictVectorizer()\n",
    "        dicts = []\n",
    "        for d in docs:\n",
    "            dicts.append(dict([(w, 1) for w in d]))\n",
    "        self.dv.fit(dicts)\n",
    "        features = csr_matrix(self.dv.transform(dicts), dtype=int)\n",
    "        self.cp = pysparnn.ClusterIndex(features, datas, pysparnn.matrix_similarity.UnitCosineSimilarity)\n",
    "        \n",
    "    def search(self, docs):\n",
    "        dicts = []\n",
    "        for d in docs:\n",
    "            dicts.append(dict([(w, 1) for w in d]))\n",
    "        features = csr_matrix(self.dv.transform(dicts), dtype=int)\n",
    "        return self.cp.search(features, return_metric=False, k=1, k_clusters=1, min_threshold=0.1)\n",
    "        \n",
    "\n",
    "t0 = time.time()\n",
    "snn_search = SNNSearch(docs, datas)\n",
    "print(time.time() - t0)"
   ]
  },
  {
   "cell_type": "code",
   "execution_count": 5,
   "metadata": {
    "collapsed": false
   },
   "outputs": [
    {
     "name": "stdout",
     "output_type": "stream",
     "text": [
      "4.43253207207\n"
     ]
    }
   ],
   "source": [
    "class LSHSearch:\n",
    "    def __init__(self, docs):\n",
    "        self.lshf = LSHForest(n_estimators=1, n_candidates=1,\n",
    "                     n_neighbors=1)\n",
    "        self.dv = DictVectorizer()\n",
    "        dicts = []\n",
    "        for d in docs:\n",
    "            dicts.append(dict([(w, 1) for w in d]))\n",
    "        self.dv.fit(dicts)\n",
    "        features = self.dv.transform(dicts)\n",
    "        # floats are faster\n",
    "        # features = csr_matrix(features, dtype=int)\n",
    "        self.lshf.fit(features)\n",
    "        \n",
    "    def search(self, docs):\n",
    "        dicts = []\n",
    "        for d in docs:\n",
    "            dicts.append(dict([(w, 1) for w in d]))\n",
    "        features = self.dv.transform(dicts)\n",
    "        # floats are faster\n",
    "        # features = csr_matrix(features, dtype=int)\n",
    "        return self.lshf.kneighbors(features, return_distance=False)\n",
    "    \n",
    "t0 = time.time()    \n",
    "lsh = LSHSearch(docs) \n",
    "print(time.time() - t0)\n"
   ]
  },
  {
   "cell_type": "markdown",
   "metadata": {},
   "source": [
    "### Compare query speed an accuracy"
   ]
  },
  {
   "cell_type": "code",
   "execution_count": 6,
   "metadata": {
    "collapsed": false
   },
   "outputs": [],
   "source": [
    "import time\n",
    "import random\n",
    "def accuracy(result, truth):\n",
    "    ret =  []\n",
    "    for r, t in zip(result, truth):\n",
    "        ret.append(1 if t in r else 0)\n",
    "    return np.array(ret)\n",
    "\n",
    "def time_it(search_index, docs, query_index):\n",
    "    t0 = time.time()\n",
    "    neighbors = search_index.search(docs[query_index])\n",
    "    delta = time.time() - t0\n",
    "\n",
    "    return delta, accuracy(neighbors, query_index).mean()\n",
    "\n",
    "def time_it_n(search_index, docs, n=100, k_docs=100):\n",
    "\n",
    "    times = []\n",
    "    accuracys = []\n",
    "    for i in range(n):\n",
    "        query_index = random.sample(range(len(docs)), k_docs)\n",
    "        time, accuracy = time_it(search_index, docs, query_index)\n",
    "        time = time / k_docs\n",
    "        times.append(time)\n",
    "        accuracys.append(accuracy)\n",
    "    return np.median(times), np.median(accuracys)"
   ]
  },
  {
   "cell_type": "code",
   "execution_count": 7,
   "metadata": {
    "collapsed": false
   },
   "outputs": [
    {
     "name": "stdout",
     "output_type": "stream",
     "text": [
      "LSH median time per query: 0.0028506398201\n",
      "LSH median accuracy: 1.0\n"
     ]
    }
   ],
   "source": [
    "lsh_time, lsh_accuracy = time_it_n(lsh, docs)\n",
    "print('LSH median time per query: {0}'.format(lsh_time)) \n",
    "print('LSH median accuracy: {0}'.format(lsh_accuracy)) "
   ]
  },
  {
   "cell_type": "code",
   "execution_count": 8,
   "metadata": {
    "collapsed": false
   },
   "outputs": [
    {
     "name": "stdout",
     "output_type": "stream",
     "text": [
      "PySparNN median time per query: 0.00248134613037\n",
      "PySparNN median accuracy: 1.0\n"
     ]
    }
   ],
   "source": [
    "snn_time, snn_accuracy = time_it_n(snn_search, docs)\n",
    "print('PySparNN median time per query: {0}'.format(snn_time)) \n",
    "print('PySparNN median accuracy: {0}'.format(snn_accuracy)) "
   ]
  },
  {
   "cell_type": "code",
   "execution_count": 9,
   "metadata": {
    "collapsed": false
   },
   "outputs": [
    {
     "data": {
      "text/plain": [
       "1.1488279628576261"
      ]
     },
     "execution_count": 9,
     "metadata": {},
     "output_type": "execute_result"
    }
   ],
   "source": [
    "lsh_time / snn_time"
   ]
  },
  {
   "cell_type": "markdown",
   "metadata": {
    "collapsed": true
   },
   "source": [
    "# SlowEuclideanDistance "
   ]
  },
  {
   "cell_type": "code",
   "execution_count": 10,
   "metadata": {
    "collapsed": false
   },
   "outputs": [
    {
     "ename": "AttributeError",
     "evalue": "'list' object has no attribute 'shape'",
     "output_type": "error",
     "traceback": [
      "\u001b[0;31m---------------------------------------------------------------------------\u001b[0m",
      "\u001b[0;31mAttributeError\u001b[0m                            Traceback (most recent call last)",
      "\u001b[0;32m<ipython-input-10-00064415ff62>\u001b[0m in \u001b[0;36m<module>\u001b[0;34m()\u001b[0m\n\u001b[1;32m     15\u001b[0m \u001b[0;34m\u001b[0m\u001b[0m\n\u001b[1;32m     16\u001b[0m \u001b[0mt0\u001b[0m \u001b[0;34m=\u001b[0m \u001b[0mtime\u001b[0m\u001b[0;34m.\u001b[0m\u001b[0mtime\u001b[0m\u001b[0;34m(\u001b[0m\u001b[0;34m)\u001b[0m\u001b[0;34m\u001b[0m\u001b[0m\n\u001b[0;32m---> 17\u001b[0;31m \u001b[0msnn_search_euclidean\u001b[0m \u001b[0;34m=\u001b[0m \u001b[0mSNNSearchEuclideanDistance\u001b[0m\u001b[0;34m(\u001b[0m\u001b[0mdocs\u001b[0m\u001b[0;34m,\u001b[0m \u001b[0mdatas\u001b[0m\u001b[0;34m)\u001b[0m\u001b[0;34m\u001b[0m\u001b[0m\n\u001b[0m\u001b[1;32m     18\u001b[0m \u001b[0;32mprint\u001b[0m\u001b[0;34m(\u001b[0m\u001b[0mtime\u001b[0m\u001b[0;34m.\u001b[0m\u001b[0mtime\u001b[0m\u001b[0;34m(\u001b[0m\u001b[0;34m)\u001b[0m \u001b[0;34m-\u001b[0m \u001b[0mt0\u001b[0m\u001b[0;34m)\u001b[0m\u001b[0;34m\u001b[0m\u001b[0m\n",
      "\u001b[0;32m<ipython-input-10-00064415ff62>\u001b[0m in \u001b[0;36m__init__\u001b[0;34m(self, docs, datas)\u001b[0m\n\u001b[1;32m      5\u001b[0m         \u001b[0;32mfor\u001b[0m \u001b[0md\u001b[0m \u001b[0;32min\u001b[0m \u001b[0mdocs\u001b[0m\u001b[0;34m:\u001b[0m\u001b[0;34m\u001b[0m\u001b[0m\n\u001b[1;32m      6\u001b[0m             \u001b[0mfeatures\u001b[0m\u001b[0;34m.\u001b[0m\u001b[0mappend\u001b[0m\u001b[0;34m(\u001b[0m\u001b[0mdict\u001b[0m\u001b[0;34m(\u001b[0m\u001b[0;34m[\u001b[0m\u001b[0;34m(\u001b[0m\u001b[0mw\u001b[0m\u001b[0;34m,\u001b[0m \u001b[0;36m1\u001b[0m\u001b[0;34m)\u001b[0m \u001b[0;32mfor\u001b[0m \u001b[0mw\u001b[0m \u001b[0;32min\u001b[0m \u001b[0md\u001b[0m\u001b[0;34m]\u001b[0m\u001b[0;34m)\u001b[0m\u001b[0;34m)\u001b[0m\u001b[0;34m\u001b[0m\u001b[0m\n\u001b[0;32m----> 7\u001b[0;31m         \u001b[0mself\u001b[0m\u001b[0;34m.\u001b[0m\u001b[0mcp\u001b[0m \u001b[0;34m=\u001b[0m \u001b[0mpysparnn\u001b[0m\u001b[0;34m.\u001b[0m\u001b[0mClusterIndex\u001b[0m\u001b[0;34m(\u001b[0m\u001b[0mfeatures\u001b[0m\u001b[0;34m,\u001b[0m \u001b[0mdatas\u001b[0m\u001b[0;34m,\u001b[0m \u001b[0mpysparnn\u001b[0m\u001b[0;34m.\u001b[0m\u001b[0mmatrix_similarity\u001b[0m\u001b[0;34m.\u001b[0m\u001b[0mSlowEuclideanDistance\u001b[0m\u001b[0;34m)\u001b[0m\u001b[0;34m\u001b[0m\u001b[0m\n\u001b[0m\u001b[1;32m      8\u001b[0m \u001b[0;34m\u001b[0m\u001b[0m\n\u001b[1;32m      9\u001b[0m     \u001b[0;32mdef\u001b[0m \u001b[0msearch\u001b[0m\u001b[0;34m(\u001b[0m\u001b[0mself\u001b[0m\u001b[0;34m,\u001b[0m \u001b[0mdocs\u001b[0m\u001b[0;34m)\u001b[0m\u001b[0;34m:\u001b[0m\u001b[0;34m\u001b[0m\u001b[0m\n",
      "\u001b[0;32m/Users/spencebeecher/code/pysparnn/pysparnn/cluster_pruning.pyc\u001b[0m in \u001b[0;36m__init__\u001b[0;34m(self, records_features, records_data, similarity_type)\u001b[0m\n\u001b[1;32m     72\u001b[0m         \u001b[0;31m# could make this recursive at the cost of recall accuracy\u001b[0m\u001b[0;34m\u001b[0m\u001b[0;34m\u001b[0m\u001b[0m\n\u001b[1;32m     73\u001b[0m         \u001b[0;31m# keeping to a single layer for simplicity/accuracy\u001b[0m\u001b[0;34m\u001b[0m\u001b[0;34m\u001b[0m\u001b[0m\n\u001b[0;32m---> 74\u001b[0;31m         \u001b[0mnum_clusters\u001b[0m \u001b[0;34m=\u001b[0m \u001b[0mint\u001b[0m\u001b[0;34m(\u001b[0m\u001b[0mmath\u001b[0m\u001b[0;34m.\u001b[0m\u001b[0msqrt\u001b[0m\u001b[0;34m(\u001b[0m\u001b[0mself\u001b[0m\u001b[0;34m.\u001b[0m\u001b[0mrecords_features\u001b[0m\u001b[0;34m.\u001b[0m\u001b[0mshape\u001b[0m\u001b[0;34m[\u001b[0m\u001b[0;36m0\u001b[0m\u001b[0;34m]\u001b[0m\u001b[0;34m)\u001b[0m\u001b[0;34m)\u001b[0m\u001b[0;34m\u001b[0m\u001b[0m\n\u001b[0m\u001b[1;32m     75\u001b[0m         \u001b[0mrecords_index\u001b[0m \u001b[0;34m=\u001b[0m \u001b[0mnp\u001b[0m\u001b[0;34m.\u001b[0m\u001b[0marange\u001b[0m\u001b[0;34m(\u001b[0m\u001b[0mself\u001b[0m\u001b[0;34m.\u001b[0m\u001b[0mrecords_features\u001b[0m\u001b[0;34m.\u001b[0m\u001b[0mshape\u001b[0m\u001b[0;34m[\u001b[0m\u001b[0;36m0\u001b[0m\u001b[0;34m]\u001b[0m\u001b[0;34m)\u001b[0m\u001b[0;34m\u001b[0m\u001b[0m\n\u001b[1;32m     76\u001b[0m         \u001b[0mclusters_selection\u001b[0m \u001b[0;34m=\u001b[0m \u001b[0mrandom\u001b[0m\u001b[0;34m.\u001b[0m\u001b[0msample\u001b[0m\u001b[0;34m(\u001b[0m\u001b[0mrecords_index\u001b[0m\u001b[0;34m,\u001b[0m \u001b[0mnum_clusters\u001b[0m\u001b[0;34m)\u001b[0m\u001b[0;34m\u001b[0m\u001b[0m\n",
      "\u001b[0;31mAttributeError\u001b[0m: 'list' object has no attribute 'shape'"
     ]
    }
   ],
   "source": [
    "class SNNSearchEuclideanDistance:\n",
    "    def __init__(self, docs, datas):\n",
    "        \n",
    "        features = []\n",
    "        for d in docs:\n",
    "            features.append(dict([(w, 1) for w in d]))\n",
    "        self.cp = pysparnn.ClusterIndex(features, datas, pysparnn.matrix_similarity.SlowEuclideanDistance)\n",
    "        \n",
    "    def search(self, docs):\n",
    "        dicts = []\n",
    "        for d in docs:\n",
    "            dicts.append(dict([(w, 1) for w in d]))\n",
    "        return self.cp.search(dicts, return_metric=False, k=1, k_clusters=1, min_threshold=0.0, max_threshold=0.5)\n",
    "        \n",
    "\n",
    "t0 = time.time()\n",
    "snn_search_euclidean = SNNSearchEuclideanDistance(docs, datas)\n",
    "print(time.time() - t0)"
   ]
  },
  {
   "cell_type": "code",
   "execution_count": null,
   "metadata": {
    "collapsed": false
   },
   "outputs": [],
   "source": [
    "snn_euclidean_time, snn_euclidean_accuracy = time_it_n(snn_search_euclidean, docs, n=1)\n",
    "print('PySparNN SlowEuclideanDistance median time per query: {0}'.format(snn_euclidean_time)) \n",
    "print('PySparNN SlowEuclideanDistance median accuracy: {0}'.format(snn_euclidean_accuracy)) "
   ]
  }
 ],
 "metadata": {
  "kernelspec": {
   "display_name": "Python 2",
   "language": "python",
   "name": "python2"
  },
  "language_info": {
   "codemirror_mode": {
    "name": "ipython",
    "version": 2
   },
   "file_extension": ".py",
   "mimetype": "text/x-python",
   "name": "python",
   "nbconvert_exporter": "python",
   "pygments_lexer": "ipython2",
   "version": "2.7.11"
  }
 },
 "nbformat": 4,
 "nbformat_minor": 0
}
