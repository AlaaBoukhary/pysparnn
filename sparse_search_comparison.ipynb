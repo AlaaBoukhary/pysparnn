{
 "cells": [
  {
   "cell_type": "code",
   "execution_count": 1,
   "metadata": {
    "collapsed": false
   },
   "outputs": [],
   "source": [
    "# Copyright (c) 2016-present, Facebook, Inc.\n",
    "# All rights reserved.\n",
    "#\n",
    "# This source code is licensed under the BSD-style license found in the\n",
    "# LICENSE file in the root directory of this source tree. An additional grant\n",
    "# of patent rights can be found in the PATENTS file in the same directory.\n",
    "\n",
    "\n",
    "import numpy as np\n",
    "import time\n",
    "from scipy.sparse import csr_matrix\n",
    "from sklearn.datasets import fetch_20newsgroups\n",
    "from sklearn.neighbors import LSHForest\n",
    "from sklearn.feature_extraction import DictVectorizer"
   ]
  },
  {
   "cell_type": "code",
   "execution_count": 2,
   "metadata": {
    "collapsed": false
   },
   "outputs": [],
   "source": [
    "import pysparnn"
   ]
  },
  {
   "cell_type": "markdown",
   "metadata": {
    "collapsed": false
   },
   "source": [
    "# Fetch data"
   ]
  },
  {
   "cell_type": "code",
   "execution_count": 3,
   "metadata": {
    "collapsed": false
   },
   "outputs": [],
   "source": [
    "dataset = fetch_20newsgroups(subset='all', shuffle=True, random_state=42)\n",
    "\n",
    "docs = np.array([x.split() for x in dataset.data])\n",
    "datas = np.array(range(len(docs)))"
   ]
  },
  {
   "cell_type": "markdown",
   "metadata": {},
   "source": [
    "# Build LSH & PySparNN indexes"
   ]
  },
  {
   "cell_type": "code",
   "execution_count": 4,
   "metadata": {
    "collapsed": false,
    "scrolled": false
   },
   "outputs": [
    {
     "name": "stdout",
     "output_type": "stream",
     "text": [
      "5.2302210331\n"
     ]
    }
   ],
   "source": [
    "class SNNSearch:\n",
    "    def __init__(self, docs, datas):\n",
    "        \n",
    "        self.dv = DictVectorizer()\n",
    "        dicts = []\n",
    "        for d in docs:\n",
    "            dicts.append(dict([(w, 1) for w in d]))\n",
    "        self.dv.fit(dicts)\n",
    "        features = csr_matrix(self.dv.transform(dicts), dtype=int)\n",
    "        self.cp = pysparnn.ClusterIndex(features, datas, \n",
    "                                        pysparnn.matrix_similarity.UnitCosineDistance)\n",
    "        \n",
    "    def search(self, docs):\n",
    "        dicts = []\n",
    "        for d in docs:\n",
    "            dicts.append(dict([(w, 1) for w in d]))\n",
    "        features = csr_matrix(self.dv.transform(dicts), dtype=int)\n",
    "        return self.cp.search(features, return_metric=False, k=1, k_clusters=1)\n",
    "        \n",
    "\n",
    "t0 = time.time()\n",
    "snn_search = SNNSearch(docs, datas)\n",
    "print(time.time() - t0)"
   ]
  },
  {
   "cell_type": "code",
   "execution_count": 5,
   "metadata": {
    "collapsed": false
   },
   "outputs": [
    {
     "name": "stdout",
     "output_type": "stream",
     "text": [
      "4.56876778603\n"
     ]
    }
   ],
   "source": [
    "class LSHSearch:\n",
    "    def __init__(self, docs):\n",
    "        self.lshf = LSHForest(n_estimators=1, n_candidates=1,\n",
    "                     n_neighbors=1)\n",
    "        self.dv = DictVectorizer()\n",
    "        dicts = []\n",
    "        for d in docs:\n",
    "            dicts.append(dict([(w, 1) for w in d]))\n",
    "        self.dv.fit(dicts)\n",
    "        features = self.dv.transform(dicts)\n",
    "        # floats are faster\n",
    "        # features = csr_matrix(features, dtype=int)\n",
    "        self.lshf.fit(features)\n",
    "        \n",
    "    def search(self, docs):\n",
    "        dicts = []\n",
    "        for d in docs:\n",
    "            dicts.append(dict([(w, 1) for w in d]))\n",
    "        features = self.dv.transform(dicts)\n",
    "        # floats are faster\n",
    "        # features = csr_matrix(features, dtype=int)\n",
    "        return self.lshf.kneighbors(features, return_distance=False)\n",
    "    \n",
    "t0 = time.time()    \n",
    "lsh = LSHSearch(docs) \n",
    "print(time.time() - t0)\n"
   ]
  },
  {
   "cell_type": "markdown",
   "metadata": {},
   "source": [
    "### Compare query speed an accuracy"
   ]
  },
  {
   "cell_type": "code",
   "execution_count": 6,
   "metadata": {
    "collapsed": false
   },
   "outputs": [],
   "source": [
    "import time\n",
    "import random\n",
    "def accuracy(result, truth):\n",
    "    ret =  []\n",
    "    for r, t in zip(result, truth):\n",
    "        ret.append(1 if t in r else 0)\n",
    "    return np.array(ret)\n",
    "\n",
    "def time_it(search_index, docs, query_index):\n",
    "    # time how long the query takes\n",
    "    t0 = time.time()\n",
    "    neighbors = search_index.search(docs[query_index])\n",
    "    delta = time.time() - t0\n",
    "\n",
    "    return delta, accuracy(neighbors, query_index).mean()\n",
    "\n",
    "def time_it_n(search_index, docs, n=500, k_docs=20):\n",
    "    # a rough bootstrap\n",
    "    times = []\n",
    "    accuracys = []\n",
    "    for i in range(n):\n",
    "        query_index = random.sample(range(len(docs)), k_docs)\n",
    "        time, accuracy = time_it(search_index, docs, query_index)\n",
    "        time = time / k_docs\n",
    "        times.append(time)\n",
    "        accuracys.append(accuracy)\n",
    "    return np.median(times), np.median(accuracys)"
   ]
  },
  {
   "cell_type": "code",
   "execution_count": 7,
   "metadata": {
    "collapsed": false
   },
   "outputs": [
    {
     "name": "stdout",
     "output_type": "stream",
     "text": [
      "LSH median time per query: 0.00387922525406\n",
      "LSH median accuracy: 1.0\n"
     ]
    }
   ],
   "source": [
    "lsh_time, lsh_accuracy = time_it_n(lsh, docs)\n",
    "print('LSH median time per query: {0}'.format(lsh_time)) \n",
    "print('LSH median accuracy: {0}'.format(lsh_accuracy)) "
   ]
  },
  {
   "cell_type": "code",
   "execution_count": 8,
   "metadata": {
    "collapsed": false
   },
   "outputs": [
    {
     "name": "stdout",
     "output_type": "stream",
     "text": [
      "PySparNN median time per query: 0.00226830244064\n",
      "PySparNN median accuracy: 1.0\n"
     ]
    }
   ],
   "source": [
    "snn_time, snn_accuracy = time_it_n(snn_search, docs)\n",
    "print('PySparNN median time per query: {0}'.format(snn_time)) \n",
    "print('PySparNN median accuracy: {0}'.format(snn_accuracy)) "
   ]
  },
  {
   "cell_type": "code",
   "execution_count": 9,
   "metadata": {
    "collapsed": false
   },
   "outputs": [
    {
     "data": {
      "text/plain": [
       "1.7101887228753565"
      ]
     },
     "execution_count": 9,
     "metadata": {},
     "output_type": "execute_result"
    }
   ],
   "source": [
    "lsh_time / snn_time"
   ]
  },
  {
   "cell_type": "code",
   "execution_count": 10,
   "metadata": {
    "collapsed": false
   },
   "outputs": [
    {
     "data": {
      "text/plain": [
       "-0.41526921174015785"
      ]
     },
     "execution_count": 10,
     "metadata": {},
     "output_type": "execute_result"
    }
   ],
   "source": [
    "(snn_time - lsh_time) / lsh_time"
   ]
  }
 ],
 "metadata": {
  "kernelspec": {
   "display_name": "Python 2",
   "language": "python",
   "name": "python2"
  },
  "language_info": {
   "codemirror_mode": {
    "name": "ipython",
    "version": 2
   },
   "file_extension": ".py",
   "mimetype": "text/x-python",
   "name": "python",
   "nbconvert_exporter": "python",
   "pygments_lexer": "ipython2",
   "version": "2.7.11"
  }
 },
 "nbformat": 4,
 "nbformat_minor": 0
}
